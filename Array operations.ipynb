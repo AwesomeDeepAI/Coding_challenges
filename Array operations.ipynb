{
 "cells": [
  {
   "cell_type": "markdown",
   "id": "a27a2488",
   "metadata": {},
   "source": [
    "## Find the max and min array elements"
   ]
  },
  {
   "cell_type": "code",
   "execution_count": 57,
   "id": "1d5cb595",
   "metadata": {},
   "outputs": [
    {
     "name": "stdout",
     "output_type": "stream",
     "text": [
      "Max: 9808\n",
      "Min: 10\n"
     ]
    }
   ],
   "source": [
    "def findMax(array):\n",
    "    \n",
    "    max = array[0]\n",
    "    min = array[0]\n",
    "    n = len(array)\n",
    "    \n",
    "    for i in range(0, n):\n",
    "        if array[i] > max:\n",
    "            max = array[i]\n",
    "        if array[i] < min:\n",
    "            min = array[i]\n",
    "            \n",
    "    return max, min \n",
    "\n",
    "array = [45, 324, 10, 90, 9808]\n",
    "max, min = findMax(array)\n",
    "print(\"Max: \" + str(max))\n",
    "print(\"Min: \" + str(min))"
   ]
  },
  {
   "cell_type": "markdown",
   "id": "bf5e8f5a",
   "metadata": {},
   "source": [
    "## Find the largest three elements in an array"
   ]
  },
  {
   "cell_type": "code",
   "execution_count": 34,
   "id": "390185bf",
   "metadata": {},
   "outputs": [
    {
     "name": "stdout",
     "output_type": "stream",
     "text": [
      "[  10   45   90  324 9808]\n",
      "[9808  324   90   45   10]\n",
      "(9808, 324, 90)\n"
     ]
    }
   ],
   "source": [
    "import numpy as np \n",
    "\n",
    "def find_largest_three(array):\n",
    "    \n",
    "    first = second = third = 0    \n",
    "    sorted_array = np.sort(array)\n",
    "    flipped_array = np.flip(sorted_array)\n",
    "    print(sorted_array)\n",
    "    print(flipped_array)\n",
    "    n = len(sorted_array)\n",
    "    \n",
    "    for i in range(1, n):\n",
    "        first = flipped_array[0] \n",
    "        second = flipped_array[1]\n",
    "        third = flipped_array[2]\n",
    "            \n",
    "    return first, second, third \n",
    "\n",
    "array = [10, 324, 45, 90, 9808]\n",
    "print(find_largest_three(array)) "
   ]
  },
  {
   "cell_type": "markdown",
   "id": "ada1137c",
   "metadata": {},
   "source": [
    "## Find the mean and median in an array"
   ]
  },
  {
   "cell_type": "code",
   "execution_count": 43,
   "id": "b2d09de0",
   "metadata": {},
   "outputs": [
    {
     "name": "stdout",
     "output_type": "stream",
     "text": [
      "(5.8, 6.0)\n"
     ]
    }
   ],
   "source": [
    "def find_mean_median(array):\n",
    "    mean = median = 0\n",
    "    n = len(array)\n",
    "    \n",
    "    sorted_array = np.sort(array)\n",
    "    sum = 0 \n",
    "    \n",
    "    for x in sorted_array:\n",
    "        sum = sum + x        \n",
    "    mean = float (sum/n)\n",
    "    \n",
    "    if n%2 != 0:\n",
    "        median = float(sorted_array[int(n/2)])\n",
    "    else:\n",
    "        median = float(sorted_array[int(n-1/2)] + sorted_array[int(n/2)])/2\n",
    "        \n",
    "    return mean, median \n",
    "    \n",
    "array = [2, 5, 7, 9, 6]   \n",
    "print(find_mean_median(array))"
   ]
  },
  {
   "cell_type": "markdown",
   "id": "1a16c216",
   "metadata": {},
   "source": [
    "## Reversing an array "
   ]
  },
  {
   "cell_type": "code",
   "execution_count": 64,
   "id": "2be50a6a",
   "metadata": {},
   "outputs": [
    {
     "name": "stdout",
     "output_type": "stream",
     "text": [
      "New array: [9808, 90, 10, 324, 45]\n"
     ]
    }
   ],
   "source": [
    "def reverse_array(array):\n",
    "    temp_array = []\n",
    "    n = len(array)\n",
    "        \n",
    "    for i in range (0, n):\n",
    "        temp_array.append(array[n-1]) \n",
    "        n = n-1 \n",
    "        \n",
    "    return temp_array\n",
    "        \n",
    "array = [45, 324, 10, 90, 9808]\n",
    "reversed_array = reverse_array(array)\n",
    "print(\"New array: \" + str(reversed_array))"
   ]
  },
  {
   "cell_type": "markdown",
   "id": "ceca330e",
   "metadata": {},
   "source": [
    "## Bubble sort "
   ]
  },
  {
   "cell_type": "code",
   "execution_count": 81,
   "id": "47b78b0c",
   "metadata": {},
   "outputs": [
    {
     "data": {
      "text/plain": [
       "([10, 45, 90, 324, 9808], 3)"
      ]
     },
     "execution_count": 81,
     "metadata": {},
     "output_type": "execute_result"
    }
   ],
   "source": [
    "def bubble_sort(array):    \n",
    "    n = len(array)    \n",
    "    swap = False  \n",
    "    num_of_iterations = 0\n",
    "    \n",
    "    for i in range(0, n):\n",
    "        for j in range(0, n-1):\n",
    "            if(array[j] > array[j+1]):\n",
    "                temp = array[j]\n",
    "                array[j] = array[j+1]\n",
    "                array[j+1] = temp \n",
    "                swap = True \n",
    "                num_of_iterations += 1\n",
    "        if not swap:\n",
    "            break \n",
    "                \n",
    "    return array, num_of_iterations \n",
    "\n",
    "array = [45, 324, 10, 90, 9808]\n",
    "bubble_sort(array)"
   ]
  },
  {
   "cell_type": "markdown",
   "id": "11ba9f38",
   "metadata": {},
   "source": [
    "## Find number of times an element is repeated"
   ]
  },
  {
   "cell_type": "code",
   "execution_count": 2,
   "id": "21348003",
   "metadata": {},
   "outputs": [
    {
     "name": "stdout",
     "output_type": "stream",
     "text": [
      "3\n"
     ]
    }
   ],
   "source": [
    "def find_occurrence(array, item):\n",
    "    count = 0\n",
    "    n = len(array)\n",
    "    \n",
    "    for i in range(0, n):\n",
    "        if(array[i]==item):\n",
    "            count = count + 1\n",
    "        \n",
    "    return count \n",
    "\n",
    "\n",
    "array = [1, 2, 4, 5, 7, 9, 5, 7, 5]\n",
    "print(find_occurrence(array, 5))\n",
    "        "
   ]
  },
  {
   "cell_type": "code",
   "execution_count": 4,
   "id": "99a345c6",
   "metadata": {},
   "outputs": [
    {
     "name": "stdout",
     "output_type": "stream",
     "text": [
      "0\n"
     ]
    }
   ],
   "source": [
    "def find_duplicates(array, item):\n",
    "    count = 0\n",
    "    duplicated_item = 0 \n",
    "    n = len(array)\n",
    "    \n",
    "    for i in range(0, n):\n",
    "        if(array[i]==item):\n",
    "            count = count + 1\n",
    "        \n",
    "    return count \n",
    "\n",
    "#array = [1, 2, 4, 5, 7, 9, 5, 7, 5]\n",
    "arry = [1,2,3,1]\n",
    "print(find_occurrence(arry, 5))"
   ]
  }
 ],
 "metadata": {
  "kernelspec": {
   "display_name": "Python 3 (ipykernel)",
   "language": "python",
   "name": "python3"
  },
  "language_info": {
   "codemirror_mode": {
    "name": "ipython",
    "version": 3
   },
   "file_extension": ".py",
   "mimetype": "text/x-python",
   "name": "python",
   "nbconvert_exporter": "python",
   "pygments_lexer": "ipython3",
   "version": "3.8.10"
  },
  "latex_envs": {
   "LaTeX_envs_menu_present": true,
   "autoclose": false,
   "autocomplete": true,
   "bibliofile": "biblio.bib",
   "cite_by": "apalike",
   "current_citInitial": 1,
   "eqLabelWithNumbers": true,
   "eqNumInitial": 1,
   "hotkeys": {
    "equation": "Ctrl-E",
    "itemize": "Ctrl-I"
   },
   "labels_anchors": false,
   "latex_user_defs": false,
   "report_style_numbering": false,
   "user_envs_cfg": false
  },
  "varInspector": {
   "cols": {
    "lenName": 16,
    "lenType": 16,
    "lenVar": 40
   },
   "kernels_config": {
    "python": {
     "delete_cmd_postfix": "",
     "delete_cmd_prefix": "del ",
     "library": "var_list.py",
     "varRefreshCmd": "print(var_dic_list())"
    },
    "r": {
     "delete_cmd_postfix": ") ",
     "delete_cmd_prefix": "rm(",
     "library": "var_list.r",
     "varRefreshCmd": "cat(var_dic_list()) "
    }
   },
   "types_to_exclude": [
    "module",
    "function",
    "builtin_function_or_method",
    "instance",
    "_Feature"
   ],
   "window_display": false
  }
 },
 "nbformat": 4,
 "nbformat_minor": 5
}
