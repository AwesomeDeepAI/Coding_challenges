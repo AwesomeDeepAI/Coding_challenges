{
 "cells": [
  {
   "cell_type": "markdown",
   "id": "cdc83055",
   "metadata": {},
   "source": [
    "## Best time to buy and sell"
   ]
  },
  {
   "cell_type": "code",
   "execution_count": 15,
   "id": "efa80db4",
   "metadata": {},
   "outputs": [
    {
     "name": "stdout",
     "output_type": "stream",
     "text": [
      "Max profit: 5\n"
     ]
    }
   ],
   "source": [
    "from random import randint\n",
    "\n",
    "def bestTime_to_buy_and_sell(array):\n",
    "    \n",
    "    n = len(array)\n",
    "    min_price = array[randint(0, n-1)]\n",
    "    max_profit = 0\n",
    "   \n",
    "    for i in range(0, n-1):\n",
    "        if prices[i] < min_price:\n",
    "            min_price = prices[i]\n",
    "        max_profit = max(max_profit, prices[i] - min_price)\n",
    "        \n",
    "    return max_profit \n",
    "\n",
    "prices = [7, 1, 5, 3, 6, 4] \n",
    "#prices = [7,6,4,3,1]\n",
    "print(f'Max profit: {bestTime_to_buy_and_sell(prices)}')"
   ]
  },
  {
   "cell_type": "markdown",
   "id": "dd750721",
   "metadata": {},
   "source": [
    "## Two sum"
   ]
  },
  {
   "cell_type": "code",
   "execution_count": 12,
   "id": "5e4ce7c3",
   "metadata": {},
   "outputs": [
    {
     "name": "stdout",
     "output_type": "stream",
     "text": [
      "Pair with given sum 16 is (6, 10) at indices (3, 4)\n"
     ]
    }
   ],
   "source": [
    "# function to check for the given sum in the array\n",
    "def twoSum(arr, sum):\n",
    "     \n",
    "    # Create an empty hash map, which allows us to store the indices\n",
    "    hashmap = {}\n",
    "    size = len(arr)\n",
    "     \n",
    "    for i in range(0, size):\n",
    "        temp = sum - arr[i]\n",
    "        \n",
    "        if temp in hashmap:\n",
    "            print (f'Pair with given sum {sum} is ({temp}, {arr[i]}) at indices ({hashmap[temp]}, {i})')\n",
    "        \n",
    "        hashmap[arr[i]] = i\n",
    " \n",
    "# driver code\n",
    "A = [1, 4, 45, 6, 10, 8]\n",
    "n = 16\n",
    "twoSum(A, n)\n"
   ]
  }
 ],
 "metadata": {
  "kernelspec": {
   "display_name": "Python 3 (ipykernel)",
   "language": "python",
   "name": "python3"
  },
  "language_info": {
   "codemirror_mode": {
    "name": "ipython",
    "version": 3
   },
   "file_extension": ".py",
   "mimetype": "text/x-python",
   "name": "python",
   "nbconvert_exporter": "python",
   "pygments_lexer": "ipython3",
   "version": "3.8.10"
  },
  "latex_envs": {
   "LaTeX_envs_menu_present": true,
   "autoclose": false,
   "autocomplete": true,
   "bibliofile": "biblio.bib",
   "cite_by": "apalike",
   "current_citInitial": 1,
   "eqLabelWithNumbers": true,
   "eqNumInitial": 1,
   "hotkeys": {
    "equation": "Ctrl-E",
    "itemize": "Ctrl-I"
   },
   "labels_anchors": false,
   "latex_user_defs": false,
   "report_style_numbering": false,
   "user_envs_cfg": false
  },
  "varInspector": {
   "cols": {
    "lenName": 16,
    "lenType": 16,
    "lenVar": 40
   },
   "kernels_config": {
    "python": {
     "delete_cmd_postfix": "",
     "delete_cmd_prefix": "del ",
     "library": "var_list.py",
     "varRefreshCmd": "print(var_dic_list())"
    },
    "r": {
     "delete_cmd_postfix": ") ",
     "delete_cmd_prefix": "rm(",
     "library": "var_list.r",
     "varRefreshCmd": "cat(var_dic_list()) "
    }
   },
   "types_to_exclude": [
    "module",
    "function",
    "builtin_function_or_method",
    "instance",
    "_Feature"
   ],
   "window_display": false
  }
 },
 "nbformat": 4,
 "nbformat_minor": 5
}
