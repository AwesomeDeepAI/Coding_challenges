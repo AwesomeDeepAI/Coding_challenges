{
 "cells": [
  {
   "cell_type": "markdown",
   "id": "f64a23e6",
   "metadata": {},
   "source": [
    "## Bubble sort"
   ]
  },
  {
   "cell_type": "code",
   "execution_count": 1,
   "id": "e8909181",
   "metadata": {},
   "outputs": [],
   "source": [
    "def bubbleSort(array):\n",
    "    \n",
    "    n = len(array)\n",
    "    num_of_iterations = 0\n",
    "    \n",
    "    for i in range(0, n):\n",
    "        \n",
    "        for j in range(0, n-1):\n",
    "            temp = 0\n",
    "            if array[j] > array[j+1]:\n",
    "                temp = array[j] \n",
    "                array[j] = array[j+1] \n",
    "                array[j+1] = temp \n",
    "        num_of_iterations += 1\n",
    "                \n",
    "    return array, num_of_iterations\n",
    "                "
   ]
  },
  {
   "cell_type": "code",
   "execution_count": 2,
   "id": "4b6984f3",
   "metadata": {},
   "outputs": [
    {
     "name": "stdout",
     "output_type": "stream",
     "text": [
      "([1, 2, 2, 3, 3, 4, 5, 6, 7, 8, 9, 11, 15, 19], 14)\n"
     ]
    },
    {
     "data": {
      "text/plain": [
       "0.2896953374147415"
      ]
     },
     "execution_count": 2,
     "metadata": {},
     "output_type": "execute_result"
    }
   ],
   "source": [
    "array = [1, 5, 3, 7, 2, 9, 8, 11, 15, 4, 6, 19, 2, 3]\n",
    "import time \n",
    "start = time.perf_counter()\n",
    "\n",
    "print(bubbleSort(array))\n",
    "elapsed = (time.perf_counter() - start)\n",
    "(elapsed)*1000"
   ]
  },
  {
   "cell_type": "code",
   "execution_count": 3,
   "id": "faa2c00c",
   "metadata": {},
   "outputs": [],
   "source": [
    "def bubbleSortImproved(array):\n",
    "    \n",
    "    n = len(array)\n",
    "    swap = True  \n",
    "    num_of_iterations = 0\n",
    "    \n",
    "    for i in range(0, n):\n",
    "        swap = False \n",
    "        \n",
    "        for j in range(0, n-1):\n",
    "            temp = 0\n",
    "            \n",
    "            if array[j] > array[j+1]:\n",
    "                temp = array[j] \n",
    "                array[j] = array[j+1] \n",
    "                array[j+1] = temp                \n",
    "                swap = True \n",
    "                \n",
    "        num_of_iterations += 1\n",
    "        \n",
    "        if not swap: \n",
    "            break \n",
    "                \n",
    "    return array, num_of_iterations\n",
    "                "
   ]
  },
  {
   "cell_type": "code",
   "execution_count": 4,
   "id": "9a897cea",
   "metadata": {},
   "outputs": [
    {
     "name": "stdout",
     "output_type": "stream",
     "text": [
      "([1, 2, 2, 3, 3, 4, 5, 6, 7, 8, 9, 11, 15, 19], 11)\n"
     ]
    },
    {
     "data": {
      "text/plain": [
       "0.2818312495946884"
      ]
     },
     "execution_count": 4,
     "metadata": {},
     "output_type": "execute_result"
    }
   ],
   "source": [
    "array = [1, 5, 3, 7, 2, 9, 8, 11, 15, 4, 6, 19, 2, 3]\n",
    "import time \n",
    "start = time.perf_counter()\n",
    "\n",
    "print(bubbleSortImproved(array))\n",
    "elapsed = (time.perf_counter() - start)\n",
    "(elapsed)*1000"
   ]
  },
  {
   "cell_type": "markdown",
   "id": "d76b07ba",
   "metadata": {},
   "source": [
    "## Selection sort "
   ]
  },
  {
   "cell_type": "code",
   "execution_count": null,
   "id": "9a95ab99",
   "metadata": {},
   "outputs": [],
   "source": [
    "def selection_sort(array):\n",
    "    \n",
    "    minimum = 0 #array[0]\n",
    "    n = len(array)\n",
    "    \n",
    "    sorted_array = []\n",
    "    \n",
    "    for i in range(n):\n",
    "        min_index = i \n",
    "        \n",
    "        for j in range(i+1, n):\n",
    "            \n",
    "            if array[min_index] > array[j]:\n",
    "                min_index = j\n",
    "                #sorted_array.append(minimum)\n",
    "                \n",
    "            array[i], array[min_index] =  array[min_index], array[i]\n",
    "                \n",
    "    return array\n",
    "\n",
    "\n",
    "array = [1, 5, 3, 7, 2, 9, 8, 11, 15, 4, 6, 19, 2, 3]\n",
    "print(selection_sort(array)) "
   ]
  },
  {
   "cell_type": "code",
   "execution_count": 10,
   "id": "40d336bc",
   "metadata": {},
   "outputs": [
    {
     "name": "stdout",
     "output_type": "stream",
     "text": [
      "[101, 315, 460, 472, 479, 619, 730, 758]\n"
     ]
    }
   ],
   "source": [
    "def bubble_sort(array):\n",
    "    \n",
    "    n = len(array)\n",
    "    swap = False \n",
    "    \n",
    "    for i in range(n):\n",
    "        swap = True \n",
    "        \n",
    "        for j in range(n-1):\n",
    "            if array[j] > array[j+1]:\n",
    "                array[j], array[j+1] = array[j+1], array[j]   \n",
    "                swap = True \n",
    "                \n",
    "        if not swap:\n",
    "            break \n",
    "            \n",
    "    return array\n",
    "\n",
    "array = [101, 758, 315, 730, 472, 619, 460, 479]\n",
    "print(bubble_sort(array))"
   ]
  },
  {
   "cell_type": "markdown",
   "id": "a815fe2e",
   "metadata": {},
   "source": [
    "## Quick sort "
   ]
  },
  {
   "cell_type": "code",
   "execution_count": 8,
   "id": "d1684d45",
   "metadata": {},
   "outputs": [
    {
     "name": "stdout",
     "output_type": "stream",
     "text": [
      "[101, 315, 460, 472, 479, 619, 730, 758]\n"
     ]
    }
   ],
   "source": [
    "from random import randint\n",
    "\n",
    "def quick_sort(array):\n",
    "    \n",
    "    n = len(array)\n",
    "    \n",
    "    if n < 2:\n",
    "        return array    \n",
    "    \n",
    "    low, same, high = [], [], []\n",
    "    \n",
    "    pivot = array[randint(0, n-1)]   \n",
    "\n",
    "    \n",
    "    for item in array:\n",
    "        \n",
    "        if item < pivot:\n",
    "            low.append(item)\n",
    "            \n",
    "        if item == pivot:\n",
    "            same.append(item)\n",
    "            \n",
    "        if item > pivot:\n",
    "            high.append(item)\n",
    "            \n",
    "    return quick_sort(low) + same + quick_sort(high)\n",
    "\n",
    "\n",
    "array = [101, 758, 315, 730, 472, 619, 460, 479]\n",
    "print(quick_sort(array))"
   ]
  },
  {
   "cell_type": "markdown",
   "id": "16e29459",
   "metadata": {},
   "source": [
    "## Linear search "
   ]
  },
  {
   "cell_type": "code",
   "execution_count": null,
   "id": "0a8da691",
   "metadata": {},
   "outputs": [],
   "source": [
    "def linear_search(array, n):\n",
    "    flag = 0 \n",
    "    found_at = 0 \n",
    "    \n",
    "    for i in range (0, len(array)):\n",
    "        if (n == array[i]):\n",
    "            flag = 1\n",
    "            found_at = i \n",
    "            \n",
    "    return flag, found_at \n",
    "    \n",
    "array = [2, 5, 7, 9, 6]   \n",
    "n = 1 \n",
    "flag, found_at = linear_search(array, n) \n",
    "\n",
    "if (flag==1):  \n",
    "    print(\"Element \" + str(n) + \" found at \" + str(found_at)+\"th position\")  \n",
    "    \n",
    "else:\n",
    "    print(\"Element \" + str(n) + \" not found in the array!\")"
   ]
  },
  {
   "cell_type": "markdown",
   "id": "2c20d8c7",
   "metadata": {},
   "source": [
    "## Binary search "
   ]
  },
  {
   "cell_type": "code",
   "execution_count": 45,
   "id": "5dfb6c96",
   "metadata": {},
   "outputs": [],
   "source": [
    "def binary_search(array, key, low, high):\n",
    "    \n",
    "    while low <= high:\n",
    "        mid = low + (high - low)//2\n",
    "        \n",
    "        if array[mid] == key:\n",
    "            return mid \n",
    "        \n",
    "        elif array[mid] < key:\n",
    "                low = mid + 1 \n",
    "        else:\n",
    "            high = mid -1 \n",
    "            \n",
    "    return -1   \n",
    "\n",
    "def binary_search_recursive(array, key, low, high): \n",
    "    \n",
    "    while low <= high:\n",
    "        mid = low + (high - low)//2\n",
    "        \n",
    "        if array[mid] == key:\n",
    "            return mid \n",
    "        \n",
    "        elif array[mid] < key:\n",
    "                binary_search_recursive(array, key, low, mid + 1) \n",
    "        else:\n",
    "            binary_search_recursive(array, key, mid -1, high) \n",
    "            \n",
    "    return -1   \n",
    "            \n",
    "array = [1, 2, 2, 3, 3, 4, 5, 6, 7, 8, 9, 11, 15, 19]\n",
    "#array = [3, 4, 5, 6, 7, 8, 9]\n",
    "item = 5 \n"
   ]
  },
  {
   "cell_type": "code",
   "execution_count": 46,
   "id": "509a39a0",
   "metadata": {},
   "outputs": [
    {
     "name": "stdout",
     "output_type": "stream",
     "text": [
      "6\n",
      "Item 5 found at position 6\n"
     ]
    }
   ],
   "source": [
    "result = binary_search(array, item, 0, len(array)-1)\n",
    "print(result)\n",
    "\n",
    "if result != -1:\n",
    "    print(\"Item \" + str(item) + \" found at position \" + str(result))\n",
    "    \n",
    "else:\n",
    "    print(\"Item not found\")"
   ]
  },
  {
   "cell_type": "code",
   "execution_count": 47,
   "id": "7cb6ef3a",
   "metadata": {},
   "outputs": [
    {
     "name": "stdout",
     "output_type": "stream",
     "text": [
      "6\n",
      "Item 5 found at position 6\n"
     ]
    }
   ],
   "source": [
    "result = binary_search_recursive(array, item, 0, len(array)-1)\n",
    "print(result)\n",
    "\n",
    "if result != -1:\n",
    "    print(\"Item \" + str(item) + \" found at position \" + str(result))\n",
    "    \n",
    "else:\n",
    "    print(\"Item not found\")"
   ]
  },
  {
   "cell_type": "code",
   "execution_count": 42,
   "id": "06c7351c",
   "metadata": {},
   "outputs": [
    {
     "name": "stdout",
     "output_type": "stream",
     "text": [
      "1\n",
      "Element is present at index 1\n"
     ]
    }
   ],
   "source": [
    "def binarySearch(array, x, low, high):\n",
    "\n",
    "    while low <= high:\n",
    "\n",
    "        mid = low + (high - low)//2\n",
    "\n",
    "        if array[mid] == x:\n",
    "            return mid\n",
    "        \n",
    "        elif array[mid] < x:\n",
    "            low = mid + 1\n",
    "            \n",
    "        else:\n",
    "            high = mid - 1\n",
    "\n",
    "    return -1\n",
    "\n",
    "\n",
    "array = [3, 4, 5, 6, 7, 8, 9]\n",
    "x = 4\n",
    "\n",
    "result = binarySearch(array, x, 0, len(array)-1)\n",
    "print(result)\n",
    "\n",
    "if result != -1:\n",
    "    print(\"Element is present at index \" + str(result))\n",
    "else:\n",
    "    print(\"Not found\")"
   ]
  },
  {
   "cell_type": "code",
   "execution_count": 50,
   "id": "be4f6a7d",
   "metadata": {},
   "outputs": [
    {
     "name": "stdout",
     "output_type": "stream",
     "text": [
      "1\n"
     ]
    }
   ],
   "source": [
    "def binary_search_recursive(array, key, low, high):\n",
    "    \n",
    "    n = len(array)\n",
    "    \n",
    "    while low<= high:\n",
    "        \n",
    "        mid = low + (high - low) // 2\n",
    "        \n",
    "        if array[mid] == key:\n",
    "            return mid \n",
    "        \n",
    "        elif key > array[mid]:\n",
    "            #high = mid -1 \n",
    "            binary_search_recursive(array, key, low, mid-1)\n",
    "            \n",
    "        else: \n",
    "            #low = mid +1\n",
    "            binary_search_recursive(array, key, mid+1, high)\n",
    "            \n",
    "    return -1 \n",
    "\n",
    "array = [3, 4, 5, 6, 7, 8, 9]\n",
    "x = 4\n",
    "result = binarySearch(array, x, 0, len(array)-1)\n",
    "print(result)"
   ]
  },
  {
   "cell_type": "code",
   "execution_count": 6,
   "id": "14871796",
   "metadata": {},
   "outputs": [],
   "source": [
    "def minSwaps(array):\n",
    "    n = len(array)\n",
    "    swap = False \n",
    "    num_swap = 0 \n",
    "\n",
    "    for i in range(0, n):\n",
    "        swap = True \n",
    "       \n",
    "        for j in range(0, n-1):\n",
    "            \n",
    "            if array[j] > array[j+1]:\n",
    "                array[j], array[j+1] = array[j+1], array[j]\n",
    "                swap = True\n",
    "                num_swap += 1\n",
    "            \n",
    "        if swap == False:\n",
    "                break \n",
    "    return num_swap, array"
   ]
  },
  {
   "cell_type": "code",
   "execution_count": 7,
   "id": "00295bb6",
   "metadata": {},
   "outputs": [
    {
     "name": "stdout",
     "output_type": "stream",
     "text": [
      "[101, 315, 460, 472, 479, 619, 730, 758]\n",
      "13\n"
     ]
    }
   ],
   "source": [
    "array = a = [101, 758, 315, 730, 472, 619, 460, 479]\n",
    "\n",
    "min_swap, sorted_array = minSwaps(array)\n",
    "print(sorted_array)\n",
    "print(min_swap)"
   ]
  }
 ],
 "metadata": {
  "kernelspec": {
   "display_name": "Python 3 (ipykernel)",
   "language": "python",
   "name": "python3"
  },
  "language_info": {
   "codemirror_mode": {
    "name": "ipython",
    "version": 3
   },
   "file_extension": ".py",
   "mimetype": "text/x-python",
   "name": "python",
   "nbconvert_exporter": "python",
   "pygments_lexer": "ipython3",
   "version": "3.8.10"
  },
  "latex_envs": {
   "LaTeX_envs_menu_present": true,
   "autoclose": false,
   "autocomplete": true,
   "bibliofile": "biblio.bib",
   "cite_by": "apalike",
   "current_citInitial": 1,
   "eqLabelWithNumbers": true,
   "eqNumInitial": 1,
   "hotkeys": {
    "equation": "Ctrl-E",
    "itemize": "Ctrl-I"
   },
   "labels_anchors": false,
   "latex_user_defs": false,
   "report_style_numbering": false,
   "user_envs_cfg": false
  },
  "varInspector": {
   "cols": {
    "lenName": 16,
    "lenType": 16,
    "lenVar": 40
   },
   "kernels_config": {
    "python": {
     "delete_cmd_postfix": "",
     "delete_cmd_prefix": "del ",
     "library": "var_list.py",
     "varRefreshCmd": "print(var_dic_list())"
    },
    "r": {
     "delete_cmd_postfix": ") ",
     "delete_cmd_prefix": "rm(",
     "library": "var_list.r",
     "varRefreshCmd": "cat(var_dic_list()) "
    }
   },
   "types_to_exclude": [
    "module",
    "function",
    "builtin_function_or_method",
    "instance",
    "_Feature"
   ],
   "window_display": false
  }
 },
 "nbformat": 4,
 "nbformat_minor": 5
}
