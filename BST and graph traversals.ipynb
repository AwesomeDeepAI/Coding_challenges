{
 "cells": [
  {
   "cell_type": "code",
   "execution_count": 15,
   "id": "910a8df4",
   "metadata": {},
   "outputs": [
    {
     "name": "stdout",
     "output_type": "stream",
     "text": [
      "Inorder traversal:  1-> 3-> 4-> 6-> 7-> 8-> 10-> 14-> "
     ]
    }
   ],
   "source": [
    "# Binary Search Tree operations in Python\n",
    "\n",
    "# Create a node\n",
    "class Node:\n",
    "    def __init__(self, key):\n",
    "        self.key = key\n",
    "        self.left = None\n",
    "        self.right = None\n",
    "\n",
    "# Insert a node\n",
    "def insert(node, key):\n",
    "\n",
    "    # Return a new node if the tree is empty\n",
    "    if node is None:\n",
    "        return Node(key)\n",
    "\n",
    "    # Traverse to the right place and insert the node\n",
    "    if key < node.key:\n",
    "        node.left = insert(node.left, key)\n",
    "    else:\n",
    "        node.right = insert(node.right, key)\n",
    "\n",
    "    return node\n",
    "\n",
    "# Inorder traversal\n",
    "def inorder(root):\n",
    "    if root is not None:\n",
    "        # Traverse left\n",
    "        inorder(root.left)\n",
    "\n",
    "        # Traverse root\n",
    "        print(str(root.key) + \"->\", end = ' ')\n",
    "\n",
    "        # Traverse right\n",
    "        inorder(root.right)\n",
    "\n",
    "root = None\n",
    "root = insert(root, 8)\n",
    "root = insert(root, 3)\n",
    "root = insert(root, 1)\n",
    "root = insert(root, 6)\n",
    "root = insert(root, 7)\n",
    "root = insert(root, 10)\n",
    "root = insert(root, 14)\n",
    "root = insert(root, 4)\n",
    "\n",
    "print(\"Inorder traversal: \", end = ' ')\n",
    "inorder(root)"
   ]
  },
  {
   "cell_type": "code",
   "execution_count": 30,
   "id": "d4545ec4",
   "metadata": {},
   "outputs": [],
   "source": [
    "class Node:\n",
    "    def __init__(self, key):\n",
    "        self.value = key \n",
    "        self.left = None\n",
    "        self.right = None \n",
    "\n",
    "def insert(node, key):\n",
    "    if key==node:\n",
    "        return Node(node)\n",
    "    \n",
    "    if node is None:\n",
    "        return Node(key)\n",
    "    \n",
    "    if key < node.value:\n",
    "        node.left = insert(node.left, key)\n",
    "    else:\n",
    "        node.right = insert(node.right, key)\n",
    "        \n",
    "    return node     "
   ]
  },
  {
   "cell_type": "code",
   "execution_count": 31,
   "id": "bfdcee8d",
   "metadata": {},
   "outputs": [
    {
     "data": {
      "text/plain": [
       "<__main__.Node at 0x7f126328bf40>"
      ]
     },
     "execution_count": 31,
     "metadata": {},
     "output_type": "execute_result"
    }
   ],
   "source": [
    "root = None\n",
    "tree = insert(root, 6)\n",
    "tree = insert(tree, 3)\n",
    "tree = insert(tree, 1)\n",
    "tree = insert(tree, 6)\n",
    "tree = insert(tree, 7)\n",
    "tree = insert(tree, 10)\n",
    "tree = insert(tree, 14)\n",
    "tree = insert(tree, 4)\n",
    "tree"
   ]
  },
  {
   "cell_type": "code",
   "execution_count": 32,
   "id": "b1e0d374",
   "metadata": {},
   "outputs": [
    {
     "ename": "AttributeError",
     "evalue": "'Node' object has no attribute 'key'",
     "output_type": "error",
     "traceback": [
      "\u001b[0;31m---------------------------------------------------------------------------\u001b[0m",
      "\u001b[0;31mAttributeError\u001b[0m                            Traceback (most recent call last)",
      "Input \u001b[0;32mIn [32]\u001b[0m, in \u001b[0;36m<cell line: 16>\u001b[0;34m()\u001b[0m\n\u001b[1;32m     13\u001b[0m         \u001b[38;5;66;03m# Traverse right\u001b[39;00m\n\u001b[1;32m     14\u001b[0m         inorder(root\u001b[38;5;241m.\u001b[39mright)\n\u001b[0;32m---> 16\u001b[0m \u001b[43minOrder\u001b[49m\u001b[43m(\u001b[49m\u001b[43mtree\u001b[49m\u001b[43m)\u001b[49m\n",
      "Input \u001b[0;32mIn [32]\u001b[0m, in \u001b[0;36minOrder\u001b[0;34m(root)\u001b[0m\n\u001b[1;32m      5\u001b[0m     \u001b[38;5;28;01mpass\u001b[39;00m\n\u001b[1;32m      6\u001b[0m \u001b[38;5;28;01melse\u001b[39;00m:           \n\u001b[1;32m      7\u001b[0m     \u001b[38;5;66;03m# Traverse left\u001b[39;00m\n\u001b[0;32m----> 8\u001b[0m     \u001b[43minorder\u001b[49m\u001b[43m(\u001b[49m\u001b[43mroot\u001b[49m\u001b[38;5;241;43m.\u001b[39;49m\u001b[43mleft\u001b[49m\u001b[43m)\u001b[49m     \n\u001b[1;32m     10\u001b[0m     \u001b[38;5;66;03m# Traverse root\u001b[39;00m\n\u001b[1;32m     11\u001b[0m     \u001b[38;5;28mprint\u001b[39m(\u001b[38;5;28mstr\u001b[39m(root\u001b[38;5;241m.\u001b[39mkey) \u001b[38;5;241m+\u001b[39m \u001b[38;5;124m\"\u001b[39m\u001b[38;5;124m->\u001b[39m\u001b[38;5;124m\"\u001b[39m, end \u001b[38;5;241m=\u001b[39m \u001b[38;5;124m'\u001b[39m\u001b[38;5;124m \u001b[39m\u001b[38;5;124m'\u001b[39m)\n",
      "Input \u001b[0;32mIn [19]\u001b[0m, in \u001b[0;36minorder\u001b[0;34m(root)\u001b[0m\n\u001b[1;32m      5\u001b[0m     \u001b[38;5;28;01mpass\u001b[39;00m\n\u001b[1;32m      6\u001b[0m \u001b[38;5;28;01melse\u001b[39;00m:   \n\u001b[1;32m      7\u001b[0m     \u001b[38;5;66;03m# Traverse root\u001b[39;00m\n\u001b[0;32m----> 8\u001b[0m     \u001b[38;5;28mprint\u001b[39m(\u001b[38;5;28mstr\u001b[39m(\u001b[43mroot\u001b[49m\u001b[38;5;241;43m.\u001b[39;49m\u001b[43mkey\u001b[49m) \u001b[38;5;241m+\u001b[39m \u001b[38;5;124m\"\u001b[39m\u001b[38;5;124m->\u001b[39m\u001b[38;5;124m\"\u001b[39m, end \u001b[38;5;241m=\u001b[39m \u001b[38;5;124m'\u001b[39m\u001b[38;5;124m \u001b[39m\u001b[38;5;124m'\u001b[39m)\n\u001b[1;32m     10\u001b[0m     \u001b[38;5;66;03m# Traverse left\u001b[39;00m\n\u001b[1;32m     11\u001b[0m     inorder(root\u001b[38;5;241m.\u001b[39mleft)        \n",
      "\u001b[0;31mAttributeError\u001b[0m: 'Node' object has no attribute 'key'"
     ]
    }
   ],
   "source": [
    "# Inorder traversal\n",
    "def inOrder(root):\n",
    "    if root is None:\n",
    "        #print(\"The tree is empty. Insert values first before traversing!\")\n",
    "        pass\n",
    "    else:           \n",
    "        # Traverse left\n",
    "        inorder(root.left)     \n",
    "        \n",
    "        # Traverse root\n",
    "        print(str(root.key) + \"->\", end = ' ')\n",
    "        \n",
    "        # Traverse right\n",
    "        inorder(root.right)\n",
    "\n",
    "inOrder(tree)"
   ]
  },
  {
   "cell_type": "code",
   "execution_count": 22,
   "id": "ef7f475c",
   "metadata": {},
   "outputs": [
    {
     "name": "stdout",
     "output_type": "stream",
     "text": [
      "6-> 3-> 1-> 4-> 6-> 7-> 10-> 14-> "
     ]
    }
   ],
   "source": [
    "# Preorder traversal\n",
    "def preOrder(root):\n",
    "    if root is None:\n",
    "        #print(\"The tree is empty. Insert values first before traversing!\")\n",
    "        pass\n",
    "    else:     \n",
    "        # Traverse root\n",
    "        print(str(root.key) + \"->\", end = ' ')\n",
    "        \n",
    "        # Traverse left\n",
    "        inorder(root.left)\n",
    "        \n",
    "        # Traverse right\n",
    "        inorder(root.right)\n",
    "        \n",
    "preOrder(tree)"
   ]
  },
  {
   "cell_type": "code",
   "execution_count": 23,
   "id": "6dae4222",
   "metadata": {},
   "outputs": [
    {
     "name": "stdout",
     "output_type": "stream",
     "text": [
      "3-> 1-> 4-> 6-> 7-> 10-> 14-> 6-> "
     ]
    }
   ],
   "source": [
    "# Preorder traversal\n",
    "def postOrder(root):\n",
    "    if root is None:\n",
    "        #print(\"The tree is empty. Insert values first before traversing!\")\n",
    "        pass\n",
    "    else:             \n",
    "        # Traverse left\n",
    "        inorder(root.left)\n",
    "        \n",
    "        # Traverse right\n",
    "        inorder(root.right)\n",
    "        \n",
    "        # Traverse root\n",
    "        print(str(root.key) + \"->\", end = ' ')\n",
    "        \n",
    "postOrder(tree)"
   ]
  },
  {
   "cell_type": "code",
   "execution_count": null,
   "id": "49791973",
   "metadata": {},
   "outputs": [],
   "source": [
    "# This class represents a directed graph using adjacency list representation using a Python dictionary to act as an adjacency list\n",
    "graph = {\n",
    "  '5' : ['3','7'],\n",
    "  '3' : ['2', '4'],\n",
    "  '7' : ['8'],\n",
    "  '2' : [],\n",
    "  '4' : ['8'],\n",
    "  '8' : []\n",
    "}"
   ]
  },
  {
   "cell_type": "code",
   "execution_count": 13,
   "id": "2e653618",
   "metadata": {},
   "outputs": [
    {
     "name": "stdout",
     "output_type": "stream",
     "text": [
      "Bredth-first search of the given graph: \n",
      "5 3 7 2 4 8 "
     ]
    }
   ],
   "source": [
    "visited = [] # List for visited nodes.\n",
    "queue = []     #Initialize a queue\n",
    "\n",
    "def bfs(graph, start_node): \n",
    "    visited.append(start_node)\n",
    "    queue.append(start_node)\n",
    "    \n",
    "    while queue:\n",
    "        traversed_node = queue.pop(0) \n",
    "        print(traversed_node, end = \" \") \n",
    "\n",
    "        for neighbour in graph[traversed_node]:\n",
    "            if neighbour not in visited:\n",
    "                visited.append(neighbour)\n",
    "                queue.append(neighbour)\n",
    "\n",
    "print(\"Bredth-first search of the given graph: \")\n",
    "bfs(graph, '5')    # function calling"
   ]
  },
  {
   "cell_type": "code",
   "execution_count": 14,
   "id": "710c6646",
   "metadata": {},
   "outputs": [
    {
     "name": "stdout",
     "output_type": "stream",
     "text": [
      "Depth-first search of the given graph: \n",
      "5 3 2 4 8 7 "
     ]
    }
   ],
   "source": [
    "visited = set() # Set to keep track of visited nodes of graph.\n",
    "\n",
    "def dfs(graph, start_node):\n",
    "    if start_node not in visited:\n",
    "        print(start_node, end = \" \")\n",
    "        visited.add(start_node)\n",
    "        \n",
    "        for neighbour in graph[start_node]:\n",
    "            dfs(graph, neighbour)\n",
    "\n",
    "print(\"Depth-first search of the given graph: \")\n",
    "dfs(graph, '5')"
   ]
  },
  {
   "cell_type": "code",
   "execution_count": 12,
   "id": "8995f664",
   "metadata": {},
   "outputs": [
    {
     "name": "stdout",
     "output_type": "stream",
     "text": [
      "Pair with given sum 16 is (6, 10) at indices (3, 4)\n"
     ]
    }
   ],
   "source": [
    "# function to check for the given sum in the array\n",
    "def printPairs(arr, sum):\n",
    "     \n",
    "    # Create an empty hash map using an hashmap allows us to store the indices\n",
    "    hashmap = {}\n",
    "    size = len(arr)\n",
    "     \n",
    "    for i in range(0, size):\n",
    "        temp = sum - arr[i]\n",
    "        \n",
    "        if temp in hashmap:\n",
    "            print (f'Pair with given sum {sum} is ({temp}, {arr[i]}) at indices ({hashmap[temp]}, {i})')\n",
    "        \n",
    "        hashmap[arr[i]] = i\n",
    " \n",
    "# driver code\n",
    "A = [1, 4, 45, 6, 10, 8]\n",
    "n = 16\n",
    "printPairs(A, n)"
   ]
  },
  {
   "cell_type": "code",
   "execution_count": null,
   "id": "cd2e3b40",
   "metadata": {},
   "outputs": [],
   "source": []
  }
 ],
 "metadata": {
  "kernelspec": {
   "display_name": "Python 3 (ipykernel)",
   "language": "python",
   "name": "python3"
  },
  "language_info": {
   "codemirror_mode": {
    "name": "ipython",
    "version": 3
   },
   "file_extension": ".py",
   "mimetype": "text/x-python",
   "name": "python",
   "nbconvert_exporter": "python",
   "pygments_lexer": "ipython3",
   "version": "3.8.10"
  },
  "latex_envs": {
   "LaTeX_envs_menu_present": true,
   "autoclose": false,
   "autocomplete": true,
   "bibliofile": "biblio.bib",
   "cite_by": "apalike",
   "current_citInitial": 1,
   "eqLabelWithNumbers": true,
   "eqNumInitial": 1,
   "hotkeys": {
    "equation": "Ctrl-E",
    "itemize": "Ctrl-I"
   },
   "labels_anchors": false,
   "latex_user_defs": false,
   "report_style_numbering": false,
   "user_envs_cfg": false
  },
  "varInspector": {
   "cols": {
    "lenName": 16,
    "lenType": 16,
    "lenVar": 40
   },
   "kernels_config": {
    "python": {
     "delete_cmd_postfix": "",
     "delete_cmd_prefix": "del ",
     "library": "var_list.py",
     "varRefreshCmd": "print(var_dic_list())"
    },
    "r": {
     "delete_cmd_postfix": ") ",
     "delete_cmd_prefix": "rm(",
     "library": "var_list.r",
     "varRefreshCmd": "cat(var_dic_list()) "
    }
   },
   "types_to_exclude": [
    "module",
    "function",
    "builtin_function_or_method",
    "instance",
    "_Feature"
   ],
   "window_display": false
  }
 },
 "nbformat": 4,
 "nbformat_minor": 5
}
